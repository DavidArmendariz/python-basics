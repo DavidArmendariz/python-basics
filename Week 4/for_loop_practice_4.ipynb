{
 "cells": [
  {
   "cell_type": "code",
   "execution_count": 6,
   "metadata": {},
   "outputs": [
    {
     "name": "stdout",
     "output_type": "stream",
     "text": [
      "1 2 3 4 5 6 7 8 9\n",
      "1 3 5 7 9 111 112\n",
      "(1, 3, 5, 7, 9)\n"
     ]
    }
   ],
   "source": [
    "string1 = input()\n",
    "string2 = input()\n",
    "numbers1 = string1.split()\n",
    "numbers2 = string2.split()\n",
    "result = []\n",
    "for e1 in numbers1:\n",
    "    for e2 in numbers2:\n",
    "        if e1 == e2:\n",
    "            result.append(e1)\n",
    "            break\n",
    "intersection = tuple(list(map(int, result)))\n",
    "print(intersection)"
   ]
  },
  {
   "cell_type": "code",
   "execution_count": null,
   "metadata": {},
   "outputs": [],
   "source": []
  }
 ],
 "metadata": {
  "kernelspec": {
   "display_name": "Python 3",
   "language": "python",
   "name": "python3"
  },
  "language_info": {
   "codemirror_mode": {
    "name": "ipython",
    "version": 3
   },
   "file_extension": ".py",
   "mimetype": "text/x-python",
   "name": "python",
   "nbconvert_exporter": "python",
   "pygments_lexer": "ipython3",
   "version": "3.6.9"
  }
 },
 "nbformat": 4,
 "nbformat_minor": 2
}
