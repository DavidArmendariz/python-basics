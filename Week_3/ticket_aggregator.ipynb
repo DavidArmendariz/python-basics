{
 "cells": [
  {
   "cell_type": "markdown",
   "metadata": {},
   "source": [
    "# Ticket aggregator assignment"
   ]
  },
  {
   "cell_type": "markdown",
   "metadata": {},
   "source": [
    "## In this block of code, we enter the price.\n",
    "\n",
    "We validate if the user entered a non-negative real number."
   ]
  },
  {
   "cell_type": "code",
   "execution_count": 1,
   "metadata": {},
   "outputs": [
    {
     "name": "stdout",
     "output_type": "stream",
     "text": [
      "Enter price: 125.5\n"
     ]
    }
   ],
   "source": [
    "while True:\n",
    "    try:\n",
    "        price = float(input('Enter price: '))\n",
    "    except ValueError:\n",
    "        print('Your input should be a number, try again')\n",
    "        continue\n",
    "    if price < 0:\n",
    "        print('The price should not be negative, try again')\n",
    "    else:\n",
    "        break"
   ]
  },
  {
   "cell_type": "markdown",
   "metadata": {},
   "source": [
    "## In this block of code, we enter the number of transfers.\n",
    "\n",
    "We validate if the user entered a non-negative integer."
   ]
  },
  {
   "cell_type": "code",
   "execution_count": 2,
   "metadata": {},
   "outputs": [
    {
     "name": "stdout",
     "output_type": "stream",
     "text": [
      "Enter number of transfers: 1\n"
     ]
    }
   ],
   "source": [
    "while True:\n",
    "    try:\n",
    "        transfer = int(input('Enter number of transfers: '))\n",
    "    except ValueError:\n",
    "        print('Your input should be a number, try again')\n",
    "        continue\n",
    "    if transfer < 0:\n",
    "        print('The number of transfers should not be negative, try again')\n",
    "    else:\n",
    "        break"
   ]
  },
  {
   "cell_type": "markdown",
   "metadata": {},
   "source": [
    "## In this block of code, we enter if refund is available.\n",
    "\n",
    "We validate if the user enters either `y` (yes) or `n` (no) and then we convert these values to boolean variables."
   ]
  },
  {
   "cell_type": "code",
   "execution_count": 3,
   "metadata": {},
   "outputs": [
    {
     "name": "stdout",
     "output_type": "stream",
     "text": [
      "Enter if refund is available (y/n): y\n"
     ]
    }
   ],
   "source": [
    "while True:\n",
    "    refund = input('Enter if refund is available (y/n): ')\n",
    "    if refund != 'y' and refund != 'n':\n",
    "        print('Your input should be either y or n, try again')\n",
    "    else:\n",
    "        refund = True if refund == 'y' else False\n",
    "        break"
   ]
  },
  {
   "cell_type": "markdown",
   "metadata": {},
   "source": [
    "## In this block of code, we enter if luggage is included.\n",
    "\n",
    "We validate if the user enters either `y` (yes) or `n` (no) and then we convert these values to boolean variables."
   ]
  },
  {
   "cell_type": "code",
   "execution_count": 4,
   "metadata": {},
   "outputs": [
    {
     "name": "stdout",
     "output_type": "stream",
     "text": [
      "Enter if luggage is included (y/n): y\n"
     ]
    }
   ],
   "source": [
    "while True:\n",
    "    luggage = input('Enter if luggage is included (y/n): ')\n",
    "    if luggage != 'y' and luggage != 'n':\n",
    "        print('Your input should be either y or n, try again')\n",
    "    else:\n",
    "        luggage = True if luggage == 'y' else False\n",
    "        break"
   ]
  },
  {
   "cell_type": "markdown",
   "metadata": {},
   "source": [
    "## In this block of code, we determine the category of our ticket.\n",
    "\n",
    "We categorize our ticket according to the parameters entered."
   ]
  },
  {
   "cell_type": "code",
   "execution_count": 5,
   "metadata": {},
   "outputs": [],
   "source": [
    "category = ''\n",
    "if price < 200.00 and (transfer in [0, 1]) and refund and luggage:\n",
    "    category = 'Best offer'\n",
    "elif (price >= 200 and price < 250) and (transfer in [0, 1, 2]) and refund:\n",
    "    category = 'Normal offer'\n",
    "elif (price >= 250 and price < 300) and (transfer in [3, 4]) and refund:\n",
    "    cateogry = 'Bad offer'\n",
    "else:\n",
    "    category = 'Other'"
   ]
  },
  {
   "cell_type": "markdown",
   "metadata": {},
   "source": [
    "## In this cell, we print the categorization along with the parameters."
   ]
  },
  {
   "cell_type": "code",
   "execution_count": 11,
   "metadata": {},
   "outputs": [
    {
     "name": "stdout",
     "output_type": "stream",
     "text": [
      "\n",
      "Price: $125.5\n",
      "Number of transfers: 1\n",
      "Refund available: Yes\n",
      "Luggage included: Yes\n",
      "Category: Best offer\n",
      "\n"
     ]
    }
   ],
   "source": [
    "refund_available = 'Yes' if luggage else 'No'\n",
    "luggage_included = 'Yes' if refund else 'No'\n",
    "response = f\"\"\"\n",
    "Price: ${price}\n",
    "Number of transfers: {transfer}\n",
    "Refund available: {refund_available}\n",
    "Luggage included: {luggage_included}\n",
    "Category: {category}\n",
    "\"\"\"\n",
    "print(response)"
   ]
  },
  {
   "cell_type": "markdown",
   "metadata": {},
   "source": [
    "## Risks in this categorization flow\n",
    "\n",
    "The risk of this categorization flow is that we do not have a method to test if the way we are separating these categories is the correct one. For example, we can have a ticket with the following parameters:\n",
    "* Price = \\$199\n",
    "* One transfer\n",
    "* Refund available\n",
    "* Luggage included\n",
    "\n",
    "This ticket would be in the \"Best offer\" category. \n",
    "\n",
    "However, we can also have a ticket with these parameters:\n",
    "\n",
    "* Price = \\$200\n",
    "* Zero transfers\n",
    "* Refund available\n",
    "* Luggage included\n",
    "\n",
    "And this ticket would be in the \"Normal offer\" category. \n",
    "\n",
    "However, it is clear that the second offer is way better than the first one. Having zero transfers in the second transfer clearly outweights the \\$1 difference.\n",
    "\n",
    "Also, we can see in this categorization flow that tickets with price between `250` and `300`, with transfers greater than or equal to `3` and with no refund policy should also be placed in the \"Bad offer\" category rather than in the \"Other category\". These are worse offers than the ones already in the \"Bad offers\", so they should be also included in the \"Bad offers\".\n",
    "\n",
    "In this case, it should be beneficious to use a **decision tree** to find the best categories for these tickets."
   ]
  },
  {
   "cell_type": "code",
   "execution_count": null,
   "metadata": {},
   "outputs": [],
   "source": []
  }
 ],
 "metadata": {
  "kernelspec": {
   "display_name": "Python 3",
   "language": "python",
   "name": "python3"
  },
  "language_info": {
   "codemirror_mode": {
    "name": "ipython",
    "version": 3
   },
   "file_extension": ".py",
   "mimetype": "text/x-python",
   "name": "python",
   "nbconvert_exporter": "python",
   "pygments_lexer": "ipython3",
   "version": "3.6.9"
  }
 },
 "nbformat": 4,
 "nbformat_minor": 4
}
