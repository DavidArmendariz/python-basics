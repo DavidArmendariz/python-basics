{
 "cells": [
  {
   "cell_type": "code",
   "execution_count": 11,
   "metadata": {},
   "outputs": [
    {
     "name": "stdout",
     "output_type": "stream",
     "text": [
      "1 2\n",
      "Area: 2\n",
      "Perimeter: 6\n"
     ]
    }
   ],
   "source": [
    "def area(w, h):\n",
    "    return w*h\n",
    "def perimeter(w, h):\n",
    "    return 2*w+2*h\n",
    "numbers = input().split()\n",
    "w,h = list(map(int, numbers)) \n",
    "print('Area:', int(area(w, h)))\n",
    "print('Perimeter:', int(perimeter(w, h)))"
   ]
  },
  {
   "cell_type": "code",
   "execution_count": null,
   "metadata": {},
   "outputs": [],
   "source": []
  }
 ],
 "metadata": {
  "kernelspec": {
   "display_name": "Python 3",
   "language": "python",
   "name": "python3"
  },
  "language_info": {
   "codemirror_mode": {
    "name": "ipython",
    "version": 3
   },
   "file_extension": ".py",
   "mimetype": "text/x-python",
   "name": "python",
   "nbconvert_exporter": "python",
   "pygments_lexer": "ipython3",
   "version": "3.6.9"
  }
 },
 "nbformat": 4,
 "nbformat_minor": 2
}
