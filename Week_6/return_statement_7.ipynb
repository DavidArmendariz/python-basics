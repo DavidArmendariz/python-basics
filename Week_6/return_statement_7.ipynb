{
 "cells": [
  {
   "cell_type": "code",
   "execution_count": 52,
   "metadata": {},
   "outputs": [
    {
     "name": "stdout",
     "output_type": "stream",
     "text": [
      "600\n",
      "00:10:00\n"
     ]
    }
   ],
   "source": [
    "from math import floor\n",
    "def convert_time(timestamp):\n",
    "    h = floor(timestamp*(1/3600))\n",
    "    m = floor((timestamp - h*3600)/60)\n",
    "    s = timestamp - h*3600 - 60*m\n",
    "    h, m, s = str(h), str(m), str(s)\n",
    "    if len(str(h)) == 1:\n",
    "        h = '0' + h\n",
    "    if len(str(m)) == 1:\n",
    "        m = '0' + m\n",
    "    if len(str(s)) == 1:\n",
    "        s = '0' + s\n",
    "    return h+':'+m+':'+s\n",
    "seconds = int(input())\n",
    "result = convert_time(seconds)\n",
    "print(result)"
   ]
  },
  {
   "cell_type": "code",
   "execution_count": null,
   "metadata": {},
   "outputs": [],
   "source": []
  }
 ],
 "metadata": {
  "kernelspec": {
   "display_name": "Python 3",
   "language": "python",
   "name": "python3"
  },
  "language_info": {
   "codemirror_mode": {
    "name": "ipython",
    "version": 3
   },
   "file_extension": ".py",
   "mimetype": "text/x-python",
   "name": "python",
   "nbconvert_exporter": "python",
   "pygments_lexer": "ipython3",
   "version": "3.6.9"
  }
 },
 "nbformat": 4,
 "nbformat_minor": 2
}
