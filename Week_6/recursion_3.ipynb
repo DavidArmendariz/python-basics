{
 "cells": [
  {
   "cell_type": "code",
   "execution_count": 12,
   "metadata": {},
   "outputs": [
    {
     "name": "stdout",
     "output_type": "stream",
     "text": [
      "5678\n",
      "8765\n"
     ]
    }
   ],
   "source": [
    "reversed_number = \"\"\n",
    "def reverse_number(n):\n",
    "    global reversed_number\n",
    "    if n > 0:\n",
    "        reversed_number += str(n%10)\n",
    "        reverse_number(n // 10)\n",
    "    return int(reversed_number)\n",
    "number = int(input())\n",
    "print(reverse_number(number))"
   ]
  },
  {
   "cell_type": "code",
   "execution_count": null,
   "metadata": {},
   "outputs": [],
   "source": []
  }
 ],
 "metadata": {
  "kernelspec": {
   "display_name": "Python 3",
   "language": "python",
   "name": "python3"
  },
  "language_info": {
   "codemirror_mode": {
    "name": "ipython",
    "version": 3
   },
   "file_extension": ".py",
   "mimetype": "text/x-python",
   "name": "python",
   "nbconvert_exporter": "python",
   "pygments_lexer": "ipython3",
   "version": "3.6.9"
  }
 },
 "nbformat": 4,
 "nbformat_minor": 2
}
