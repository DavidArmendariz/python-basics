{
 "cells": [
  {
   "cell_type": "markdown",
   "metadata": {},
   "source": [
    "# Final task\n",
    "\n",
    "Any game consists of a set of functions that the hero performs. Write functions for the game.\n",
    "\n",
    "1. You need the hero to be able to move around the location. To do this, for the forward and backward keys, write functions that will add or subtract one.\n",
    "\n",
    "2. You need to create a hero with different characteristics. Create a function that allows you to create a hero and set parameters for it.\n",
    "\n",
    "3. The Hero carries inventory with him. You need to create a function that allows you to display the current inventory on the screen, as well as add a new one.\n",
    "\n",
    "4. The Hero needs special combinations that will allow him to defeat enemies. Write a function that will generate a set of combinations.\n",
    "\n",
    "5. Support the possibility of different scenarios. At the beginning of the program, you need to choose the mode-easy or difficult. Next, run a set of functions depending on the mode."
   ]
  },
  {
   "cell_type": "markdown",
   "metadata": {},
   "source": [
    "## A class Hero\n",
    "\n",
    "For this task, we are going to define a class that have the methods mentioned in the instructions."
   ]
  },
  {
   "cell_type": "code",
   "execution_count": 85,
   "metadata": {},
   "outputs": [],
   "source": [
    "from random import choices, randint"
   ]
  },
  {
   "cell_type": "code",
   "execution_count": 86,
   "metadata": {},
   "outputs": [],
   "source": [
    "class Hero():\n",
    "    def __init__(self, inventory=[], attacks=[], parameters={}, steps=0):\n",
    "        self.steps = steps\n",
    "        self.inventory = inventory\n",
    "        self.attacks = attacks\n",
    "        self.parameters = parameters\n",
    "    def move_around(self, key):\n",
    "        if key == 'forward':\n",
    "            self.steps += 1\n",
    "            print('Moved one step forward!')\n",
    "            print(f'Steps: {self.steps}')\n",
    "        elif key == 'backward':\n",
    "            self.steps -= 1\n",
    "            print('Moved one step backward!')\n",
    "            print(f'Steps: {self.steps}')\n",
    "        else:\n",
    "            print('You can only move forward or backward!')\n",
    "    def show_inventory(self):\n",
    "        if len(self.inventory) == 0:\n",
    "            print('Your inventory is empty!')\n",
    "        else:\n",
    "            print('This is your current inventory:')\n",
    "            print(*self.inventory, end=\" \")\n",
    "    def add_item_to_inventory(self, item):\n",
    "        self.inventory += [item]\n",
    "    def create_combination(self):\n",
    "        if len(self.attacks) == 0:\n",
    "            print('Your set of attacks is empty! You cannot create a combination yet.')\n",
    "        else:\n",
    "            combination_length = randint(1, 10)\n",
    "            print('Use this combination to defeat your enemy!')\n",
    "            print(*choices(self.attacks, k=combination_length))\n",
    "    def show_parameters(self):\n",
    "        for key, val in self.parameters.items():\n",
    "            print(f'{key}: {val}')"
   ]
  },
  {
   "cell_type": "markdown",
   "metadata": {},
   "source": [
    "## Now, we create a while loop that let's us first choose the difficulty of the game and set some default parameteres depending on the level\n",
    "\n",
    "When the `mode` is `1` (easy), the hero will have a non-empty inventory and attacks. When the `mode` is `2` (difficult), the hero won't have any inventory nor attacks."
   ]
  },
  {
   "cell_type": "code",
   "execution_count": 87,
   "metadata": {},
   "outputs": [],
   "source": [
    "def start_game():\n",
    "    while(True):\n",
    "        print('Choose the difficulty before we start the game:')\n",
    "        print('1. Easy')\n",
    "        print('2. Difficult')\n",
    "        mode = int(input())\n",
    "        if mode == 1:\n",
    "            hero = Hero(inventory=['medicine', 'sword', 'shield'],\n",
    "                       attacks=['sword attack', 'special sword attack', 'defend', 'definitive defense'],\n",
    "                       parameters={'height': 170, 'weight': 65, 'race': 'elf'})\n",
    "            return hero\n",
    "        elif mode == 2:\n",
    "            hero = Hero(parameters={'height': 150, 'weight': 50, 'race': 'human'})\n",
    "            return hero\n",
    "        else:\n",
    "            print('You can only select 1 (easy) or 2 (difficult). Try again!')"
   ]
  },
  {
   "cell_type": "markdown",
   "metadata": {},
   "source": [
    "## Now, we start the game in the 'easy' mode"
   ]
  },
  {
   "cell_type": "code",
   "execution_count": 88,
   "metadata": {},
   "outputs": [
    {
     "name": "stdout",
     "output_type": "stream",
     "text": [
      "Choose the difficulty before we start the game:\n",
      "1. Easy\n",
      "2. Difficult\n",
      "1\n"
     ]
    }
   ],
   "source": [
    "player_1 = start_game()"
   ]
  },
  {
   "cell_type": "markdown",
   "metadata": {},
   "source": [
    "## We show the parameters of the hero"
   ]
  },
  {
   "cell_type": "code",
   "execution_count": 89,
   "metadata": {},
   "outputs": [
    {
     "name": "stdout",
     "output_type": "stream",
     "text": [
      "height: 170\n",
      "weight: 65\n",
      "race: elf\n"
     ]
    }
   ],
   "source": [
    "player_1.show_parameters()"
   ]
  },
  {
   "cell_type": "markdown",
   "metadata": {},
   "source": [
    "## We show the inventory"
   ]
  },
  {
   "cell_type": "code",
   "execution_count": 90,
   "metadata": {},
   "outputs": [
    {
     "name": "stdout",
     "output_type": "stream",
     "text": [
      "This is your current inventory:\n",
      "medicine sword shield "
     ]
    }
   ],
   "source": [
    "player_1.show_inventory()"
   ]
  },
  {
   "cell_type": "markdown",
   "metadata": {},
   "source": [
    "## We add an item to the inventory and show the inventory again"
   ]
  },
  {
   "cell_type": "code",
   "execution_count": 91,
   "metadata": {},
   "outputs": [
    {
     "name": "stdout",
     "output_type": "stream",
     "text": [
      "This is your current inventory:\n",
      "medicine sword shield potion "
     ]
    }
   ],
   "source": [
    "player_1.add_item_to_inventory('potion')\n",
    "player_1.show_inventory()"
   ]
  },
  {
   "cell_type": "markdown",
   "metadata": {},
   "source": [
    "## We move forward two times and then backward one time"
   ]
  },
  {
   "cell_type": "code",
   "execution_count": 92,
   "metadata": {},
   "outputs": [
    {
     "name": "stdout",
     "output_type": "stream",
     "text": [
      "Moved one step forward!\n",
      "Steps: 1\n",
      "Moved one step forward!\n",
      "Steps: 2\n",
      "Moved one step backward!\n",
      "Steps: 1\n"
     ]
    }
   ],
   "source": [
    "player_1.move_around('forward')\n",
    "player_1.move_around('forward')\n",
    "player_1.move_around('backward')"
   ]
  },
  {
   "cell_type": "markdown",
   "metadata": {},
   "source": [
    "## Now, we create a combination to defeat an enemy"
   ]
  },
  {
   "cell_type": "code",
   "execution_count": 93,
   "metadata": {},
   "outputs": [
    {
     "name": "stdout",
     "output_type": "stream",
     "text": [
      "Use this combination to defeat your enemy!\n",
      "sword attack sword attack sword attack defend defend sword attack sword attack sword attack defend defend\n"
     ]
    }
   ],
   "source": [
    "player.create_combination()"
   ]
  },
  {
   "cell_type": "markdown",
   "metadata": {},
   "source": [
    "## Now, we create a hero in the 'difficult' mode"
   ]
  },
  {
   "cell_type": "code",
   "execution_count": 76,
   "metadata": {},
   "outputs": [
    {
     "name": "stdout",
     "output_type": "stream",
     "text": [
      "Choose the difficulty before we start the game:\n",
      "1. Easy\n",
      "2. Difficult\n",
      "2\n"
     ]
    }
   ],
   "source": [
    "player_2 = start_game()"
   ]
  },
  {
   "cell_type": "markdown",
   "metadata": {},
   "source": [
    "## We show the parameters of the hero"
   ]
  },
  {
   "cell_type": "code",
   "execution_count": 77,
   "metadata": {},
   "outputs": [
    {
     "name": "stdout",
     "output_type": "stream",
     "text": [
      "height: 150\n",
      "weight: 50\n",
      "race: human\n"
     ]
    }
   ],
   "source": [
    "player_2.show_parameters()"
   ]
  },
  {
   "cell_type": "markdown",
   "metadata": {},
   "source": [
    "## We show the inventory"
   ]
  },
  {
   "cell_type": "code",
   "execution_count": 78,
   "metadata": {},
   "outputs": [
    {
     "name": "stdout",
     "output_type": "stream",
     "text": [
      "Your inventory is empty!\n"
     ]
    }
   ],
   "source": [
    "player_2.show_inventory()"
   ]
  },
  {
   "cell_type": "markdown",
   "metadata": {},
   "source": [
    "## We add an item to the inventory and show the inventory again"
   ]
  },
  {
   "cell_type": "code",
   "execution_count": 79,
   "metadata": {},
   "outputs": [
    {
     "name": "stdout",
     "output_type": "stream",
     "text": [
      "This is your current inventory:\n",
      "potion "
     ]
    }
   ],
   "source": [
    "player_2.add_item_to_inventory('potion')\n",
    "player_2.show_inventory()"
   ]
  },
  {
   "cell_type": "markdown",
   "metadata": {},
   "source": [
    "## We move forward two times and then backward one time. But first, let's put an invalid option to see that we can only move forward or backward"
   ]
  },
  {
   "cell_type": "code",
   "execution_count": 81,
   "metadata": {},
   "outputs": [
    {
     "name": "stdout",
     "output_type": "stream",
     "text": [
      "You can only move forward or backward!\n",
      "Moved one step forward!\n",
      "Steps: 2\n",
      "Moved one step forward!\n",
      "Steps: 3\n",
      "Moved one step backward!\n",
      "Steps: 2\n"
     ]
    }
   ],
   "source": [
    "player_2.move_around('right')\n",
    "player_2.move_around('forward')\n",
    "player_2.move_around('forward')\n",
    "player_2.move_around('backward')"
   ]
  },
  {
   "cell_type": "markdown",
   "metadata": {},
   "source": [
    "## Now, we try to create a combination to defeat an enemy (although we don't have attacks right now)"
   ]
  },
  {
   "cell_type": "code",
   "execution_count": 84,
   "metadata": {},
   "outputs": [
    {
     "name": "stdout",
     "output_type": "stream",
     "text": [
      "Your set of attacks is empty! You cannot create a combination yet.\n"
     ]
    }
   ],
   "source": [
    "player_2.create_combination()"
   ]
  },
  {
   "cell_type": "code",
   "execution_count": null,
   "metadata": {},
   "outputs": [],
   "source": []
  }
 ],
 "metadata": {
  "kernelspec": {
   "display_name": "Python 3",
   "language": "python",
   "name": "python3"
  },
  "language_info": {
   "codemirror_mode": {
    "name": "ipython",
    "version": 3
   },
   "file_extension": ".py",
   "mimetype": "text/x-python",
   "name": "python",
   "nbconvert_exporter": "python",
   "pygments_lexer": "ipython3",
   "version": "3.6.9"
  }
 },
 "nbformat": 4,
 "nbformat_minor": 4
}
