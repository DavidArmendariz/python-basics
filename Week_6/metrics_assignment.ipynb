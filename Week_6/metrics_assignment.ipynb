{
 "cells": [
  {
   "cell_type": "markdown",
   "metadata": {},
   "source": [
    "# Metrics for site assignment\n",
    "Create a set of functions that will calculate metrics for a news site (CTR, CR, average page time, share of readings)\n",
    "\n",
    "CTR (Click-through rate) - ad conversion, i.e. the ratio of the number of clicks to the number of ad displays.\n",
    "\n",
    "CR (Conversion rate) - conversion to a particular section of the site, I.e. the ration of the number of users on previous page and number of users on current page.\n",
    "\n",
    "Average page time - the ratio all time to the number of users. In this case you shouldn’t count time less than 5 seconds on page.\n",
    "\n",
    "Share of readings - how many times users share this page, i.e. the ratio of the number of share and the number of users.\n",
    "\n",
    "News site has main page and categories: politics, sport, science, technologies. Every category has about 10 new posts every day. You can use this information for solving task."
   ]
  },
  {
   "cell_type": "markdown",
   "metadata": {},
   "source": [
    "# First, let's create fake datastes\n",
    "\n",
    "## For CTR\n",
    "\n",
    "For the CTR, we will have a table with the following headers:\n",
    "\n",
    "| date | ads_displayed | clicks_on_ads |\n",
    "|------|---------------|---------------|\n",
    "\n",
    "The table is indexed by the date.\n",
    "* ads_displayed is the number of ads displayed in the specified date.\n",
    "* clicks_on_ads is the number of clicks on the ads displayed in the specified date."
   ]
  },
  {
   "cell_type": "markdown",
   "metadata": {},
   "source": [
    "## For CR\n",
    "\n",
    "For CR, we will have a table with the following headers:\n",
    "\n",
    "| date | politics | sport | science | tech | politics_to_sport | politics_to_science | politics_to_tech | sport_to_politics | sport_to_science | sport_to_tech | science_to_sport | science_to_politics | science_to_tech | tech_to_politics | tech_to_sport | tech_to_science |\n",
    "|------|----------|-------|---------|------|-------------------|---------------------|------------------|-------------------|------------------|---------------|------------------|---------------------|-----------------|------------------|---------------|-----------------|\n",
    "\n",
    "The table is indexed by the date.\n",
    "\n",
    "* politics, sport, science, tech refers to the number of users that read articles from these categories.\n",
    "* politics_to_sport, politics_to_science, politics_to_tech refers to the number of users that went from reading politics articles to sport, science and tech articles respectively.\n",
    "* sport_to_politics, sport_to_science, sport_to_tech refers to the number of users that went from reading sport articles to politics, science and tech articles respectively.\n",
    "* science_to_politics, science_to_sport, science_to_tech refers to the number of users that went from reading science articles to politics, sport and tech articles respectively.\n",
    "* tech_to_politics, tech_to_sport, tech_to_science refers to the number of users that went from reading tech articles to politics, sport and science articles respectively."
   ]
  },
  {
   "cell_type": "markdown",
   "metadata": {},
   "source": [
    "## Average page time\n",
    "For the average page time, we will have the following multiindex table:\n",
    "\n",
    "| date | user_uid | time |\n",
    "|------|----------|------|\n",
    "\n",
    "The first index of the table will be the date. The second index will be the user_uid, which will identify a user uniquely. Lastly, we will have the time in seconds, so we can filter people who stayed less than five seconds in the news site."
   ]
  },
  {
   "cell_type": "markdown",
   "metadata": {},
   "source": [
    "## Share of readings\n",
    "\n",
    "For the share of readings, we wil have the following multiindex table:\n",
    "\n",
    "| date | post_uid | shares |\n",
    "|------|----------|--------|\n",
    "\n",
    "The first index of the table will be the date. The second index will be the post_uid, which will identify a post uniquely. Lastly, we will have the number of shares."
   ]
  },
  {
   "cell_type": "markdown",
   "metadata": {},
   "source": [
    "## Creating the first table and calculating CTR\n",
    "\n",
    "For all the tables, we will be creating data for 30 days from now."
   ]
  },
  {
   "cell_type": "code",
   "execution_count": 1,
   "metadata": {},
   "outputs": [],
   "source": [
    "from datetime import datetime, timedelta\n",
    "from random import randint\n",
    "import pandas as pd\n",
    "number_of_days = 30\n",
    "start_date = datetime.today()\n",
    "dates = [start_date + timedelta(days=day) for day in range(number_of_days)]\n",
    "ads_displayed = [randint(1000, 4000) for i in range(number_of_days)]\n",
    "clicks_on_ads = [randint(0, ads) for ads in ads_displayed]\n",
    "ctr_data = {'date': dates, 'ads_displayed': ads_displayed, 'clicks_on_ads': clicks_on_ads}\n",
    "ctr_dataframe = pd.DataFrame(data=ctr_data)"
   ]
  },
  {
   "cell_type": "code",
   "execution_count": 2,
   "metadata": {},
   "outputs": [
    {
     "data": {
      "text/html": [
       "<div>\n",
       "<style scoped>\n",
       "    .dataframe tbody tr th:only-of-type {\n",
       "        vertical-align: middle;\n",
       "    }\n",
       "\n",
       "    .dataframe tbody tr th {\n",
       "        vertical-align: top;\n",
       "    }\n",
       "\n",
       "    .dataframe thead th {\n",
       "        text-align: right;\n",
       "    }\n",
       "</style>\n",
       "<table border=\"1\" class=\"dataframe\">\n",
       "  <thead>\n",
       "    <tr style=\"text-align: right;\">\n",
       "      <th></th>\n",
       "      <th>date</th>\n",
       "      <th>ads_displayed</th>\n",
       "      <th>clicks_on_ads</th>\n",
       "    </tr>\n",
       "  </thead>\n",
       "  <tbody>\n",
       "    <tr>\n",
       "      <th>0</th>\n",
       "      <td>2020-03-21 15:14:54.032866</td>\n",
       "      <td>1192</td>\n",
       "      <td>1055</td>\n",
       "    </tr>\n",
       "    <tr>\n",
       "      <th>1</th>\n",
       "      <td>2020-03-22 15:14:54.032866</td>\n",
       "      <td>3930</td>\n",
       "      <td>25</td>\n",
       "    </tr>\n",
       "    <tr>\n",
       "      <th>2</th>\n",
       "      <td>2020-03-23 15:14:54.032866</td>\n",
       "      <td>3795</td>\n",
       "      <td>1909</td>\n",
       "    </tr>\n",
       "    <tr>\n",
       "      <th>3</th>\n",
       "      <td>2020-03-24 15:14:54.032866</td>\n",
       "      <td>1267</td>\n",
       "      <td>433</td>\n",
       "    </tr>\n",
       "    <tr>\n",
       "      <th>4</th>\n",
       "      <td>2020-03-25 15:14:54.032866</td>\n",
       "      <td>2784</td>\n",
       "      <td>2033</td>\n",
       "    </tr>\n",
       "  </tbody>\n",
       "</table>\n",
       "</div>"
      ],
      "text/plain": [
       "                        date  ads_displayed  clicks_on_ads\n",
       "0 2020-03-21 15:14:54.032866           1192           1055\n",
       "1 2020-03-22 15:14:54.032866           3930             25\n",
       "2 2020-03-23 15:14:54.032866           3795           1909\n",
       "3 2020-03-24 15:14:54.032866           1267            433\n",
       "4 2020-03-25 15:14:54.032866           2784           2033"
      ]
     },
     "execution_count": 2,
     "metadata": {},
     "output_type": "execute_result"
    }
   ],
   "source": [
    "ctr_dataframe.head()"
   ]
  },
  {
   "cell_type": "markdown",
   "metadata": {},
   "source": [
    "Now, we will create a new function that will calculate a new with the CTR:"
   ]
  },
  {
   "cell_type": "markdown",
   "metadata": {},
   "source": [
    "## Function that calculates CTR"
   ]
  },
  {
   "cell_type": "code",
   "execution_count": 3,
   "metadata": {},
   "outputs": [],
   "source": [
    "def ctr(new_column, first_column, second_column):\n",
    "    ctr_dataframe[new_column] = ctr_dataframe[first_column]/ctr_dataframe[second_column]"
   ]
  },
  {
   "cell_type": "code",
   "execution_count": 4,
   "metadata": {},
   "outputs": [],
   "source": [
    "ctr('ctr', 'clicks_on_ads', 'ads_displayed')"
   ]
  },
  {
   "cell_type": "code",
   "execution_count": 5,
   "metadata": {},
   "outputs": [
    {
     "data": {
      "text/html": [
       "<div>\n",
       "<style scoped>\n",
       "    .dataframe tbody tr th:only-of-type {\n",
       "        vertical-align: middle;\n",
       "    }\n",
       "\n",
       "    .dataframe tbody tr th {\n",
       "        vertical-align: top;\n",
       "    }\n",
       "\n",
       "    .dataframe thead th {\n",
       "        text-align: right;\n",
       "    }\n",
       "</style>\n",
       "<table border=\"1\" class=\"dataframe\">\n",
       "  <thead>\n",
       "    <tr style=\"text-align: right;\">\n",
       "      <th></th>\n",
       "      <th>date</th>\n",
       "      <th>ads_displayed</th>\n",
       "      <th>clicks_on_ads</th>\n",
       "      <th>ctr</th>\n",
       "    </tr>\n",
       "  </thead>\n",
       "  <tbody>\n",
       "    <tr>\n",
       "      <th>0</th>\n",
       "      <td>2020-03-21 15:14:54.032866</td>\n",
       "      <td>1192</td>\n",
       "      <td>1055</td>\n",
       "      <td>0.885067</td>\n",
       "    </tr>\n",
       "    <tr>\n",
       "      <th>1</th>\n",
       "      <td>2020-03-22 15:14:54.032866</td>\n",
       "      <td>3930</td>\n",
       "      <td>25</td>\n",
       "      <td>0.006361</td>\n",
       "    </tr>\n",
       "    <tr>\n",
       "      <th>2</th>\n",
       "      <td>2020-03-23 15:14:54.032866</td>\n",
       "      <td>3795</td>\n",
       "      <td>1909</td>\n",
       "      <td>0.503030</td>\n",
       "    </tr>\n",
       "    <tr>\n",
       "      <th>3</th>\n",
       "      <td>2020-03-24 15:14:54.032866</td>\n",
       "      <td>1267</td>\n",
       "      <td>433</td>\n",
       "      <td>0.341752</td>\n",
       "    </tr>\n",
       "    <tr>\n",
       "      <th>4</th>\n",
       "      <td>2020-03-25 15:14:54.032866</td>\n",
       "      <td>2784</td>\n",
       "      <td>2033</td>\n",
       "      <td>0.730244</td>\n",
       "    </tr>\n",
       "  </tbody>\n",
       "</table>\n",
       "</div>"
      ],
      "text/plain": [
       "                        date  ads_displayed  clicks_on_ads       ctr\n",
       "0 2020-03-21 15:14:54.032866           1192           1055  0.885067\n",
       "1 2020-03-22 15:14:54.032866           3930             25  0.006361\n",
       "2 2020-03-23 15:14:54.032866           3795           1909  0.503030\n",
       "3 2020-03-24 15:14:54.032866           1267            433  0.341752\n",
       "4 2020-03-25 15:14:54.032866           2784           2033  0.730244"
      ]
     },
     "execution_count": 5,
     "metadata": {},
     "output_type": "execute_result"
    }
   ],
   "source": [
    "ctr_dataframe.head()"
   ]
  },
  {
   "cell_type": "markdown",
   "metadata": {},
   "source": [
    "We can also sum all of the values of `clicks_on_ads` and divide by the sum of all the values of `ads_displayed`."
   ]
  },
  {
   "cell_type": "code",
   "execution_count": 6,
   "metadata": {},
   "outputs": [
    {
     "name": "stdout",
     "output_type": "stream",
     "text": [
      "CTR: 0.49\n"
     ]
    }
   ],
   "source": [
    "total_clicks_on_ads = ctr_dataframe['clicks_on_ads'].sum()\n",
    "total_ads_displayed = ctr_dataframe['ads_displayed'].sum()\n",
    "ctr = total_clicks_on_ads/total_ads_displayed\n",
    "print(f'CTR: {ctr:.2f}')"
   ]
  },
  {
   "cell_type": "markdown",
   "metadata": {},
   "source": [
    "It would be interesting if we compared this value to the mean of the values of the `ctr` column:"
   ]
  },
  {
   "cell_type": "code",
   "execution_count": 7,
   "metadata": {},
   "outputs": [
    {
     "name": "stdout",
     "output_type": "stream",
     "text": [
      "Mean CTR: 0.51\n"
     ]
    }
   ],
   "source": [
    "mean_ctr = ctr_dataframe['ctr'].mean()\n",
    "print(f'Mean CTR: {mean_ctr:.2f}')"
   ]
  },
  {
   "cell_type": "markdown",
   "metadata": {},
   "source": [
    "They are similar but not the same. We can compare them and see that they are not equal:"
   ]
  },
  {
   "cell_type": "code",
   "execution_count": 8,
   "metadata": {},
   "outputs": [
    {
     "data": {
      "text/plain": [
       "False"
      ]
     },
     "execution_count": 8,
     "metadata": {},
     "output_type": "execute_result"
    }
   ],
   "source": [
    "ctr == mean_ctr"
   ]
  },
  {
   "cell_type": "markdown",
   "metadata": {},
   "source": [
    "For the following metrics, we will be calculating them for each date, as this makes more sense from the business perspective. If we would like to have a metric from, say, March 1 to March 21, then we would simply calculate the mean of the metrics calculated from March 1 to March 21."
   ]
  },
  {
   "cell_type": "markdown",
   "metadata": {},
   "source": [
    "## Creating the second table and calculating the CR"
   ]
  },
  {
   "cell_type": "code",
   "execution_count": 9,
   "metadata": {},
   "outputs": [],
   "source": [
    "columns_cr_dataframe = ['politics','sport','science','tech','politics_to_sport','politics_to_science',\n",
    "           'politics_to_tech','sport_to_politics','sport_to_science','sport_to_tech','science_to_sport',\n",
    "           'science_to_politics','science_to_tech','tech_to_politics','tech_to_sport','tech_to_science']\n",
    "cr_data = {'date': dates}\n",
    "cr_data.update({column: [] for column in columns_cr_dataframe})\n",
    "for i in range(number_of_days):\n",
    "    for column in columns_cr_dataframe:\n",
    "        cr_data[column] += [randint(2000, 10000)]\n",
    "cr_dataframe = pd.DataFrame(data=cr_data)"
   ]
  },
  {
   "cell_type": "code",
   "execution_count": 10,
   "metadata": {},
   "outputs": [
    {
     "data": {
      "text/html": [
       "<div>\n",
       "<style scoped>\n",
       "    .dataframe tbody tr th:only-of-type {\n",
       "        vertical-align: middle;\n",
       "    }\n",
       "\n",
       "    .dataframe tbody tr th {\n",
       "        vertical-align: top;\n",
       "    }\n",
       "\n",
       "    .dataframe thead th {\n",
       "        text-align: right;\n",
       "    }\n",
       "</style>\n",
       "<table border=\"1\" class=\"dataframe\">\n",
       "  <thead>\n",
       "    <tr style=\"text-align: right;\">\n",
       "      <th></th>\n",
       "      <th>date</th>\n",
       "      <th>politics</th>\n",
       "      <th>sport</th>\n",
       "      <th>science</th>\n",
       "      <th>tech</th>\n",
       "      <th>politics_to_sport</th>\n",
       "      <th>politics_to_science</th>\n",
       "      <th>politics_to_tech</th>\n",
       "      <th>sport_to_politics</th>\n",
       "      <th>sport_to_science</th>\n",
       "      <th>sport_to_tech</th>\n",
       "      <th>science_to_sport</th>\n",
       "      <th>science_to_politics</th>\n",
       "      <th>science_to_tech</th>\n",
       "      <th>tech_to_politics</th>\n",
       "      <th>tech_to_sport</th>\n",
       "      <th>tech_to_science</th>\n",
       "    </tr>\n",
       "  </thead>\n",
       "  <tbody>\n",
       "    <tr>\n",
       "      <th>0</th>\n",
       "      <td>2020-03-21 15:14:54.032866</td>\n",
       "      <td>2676</td>\n",
       "      <td>8062</td>\n",
       "      <td>6820</td>\n",
       "      <td>3066</td>\n",
       "      <td>6980</td>\n",
       "      <td>4444</td>\n",
       "      <td>6455</td>\n",
       "      <td>6858</td>\n",
       "      <td>2955</td>\n",
       "      <td>7841</td>\n",
       "      <td>8672</td>\n",
       "      <td>5742</td>\n",
       "      <td>5326</td>\n",
       "      <td>5567</td>\n",
       "      <td>8763</td>\n",
       "      <td>7281</td>\n",
       "    </tr>\n",
       "    <tr>\n",
       "      <th>1</th>\n",
       "      <td>2020-03-22 15:14:54.032866</td>\n",
       "      <td>7661</td>\n",
       "      <td>9975</td>\n",
       "      <td>5689</td>\n",
       "      <td>2712</td>\n",
       "      <td>4112</td>\n",
       "      <td>7283</td>\n",
       "      <td>8230</td>\n",
       "      <td>6061</td>\n",
       "      <td>9994</td>\n",
       "      <td>5193</td>\n",
       "      <td>6279</td>\n",
       "      <td>7630</td>\n",
       "      <td>9000</td>\n",
       "      <td>7906</td>\n",
       "      <td>7985</td>\n",
       "      <td>7319</td>\n",
       "    </tr>\n",
       "    <tr>\n",
       "      <th>2</th>\n",
       "      <td>2020-03-23 15:14:54.032866</td>\n",
       "      <td>4691</td>\n",
       "      <td>2848</td>\n",
       "      <td>3994</td>\n",
       "      <td>2953</td>\n",
       "      <td>9172</td>\n",
       "      <td>4607</td>\n",
       "      <td>7592</td>\n",
       "      <td>9677</td>\n",
       "      <td>6849</td>\n",
       "      <td>6070</td>\n",
       "      <td>6844</td>\n",
       "      <td>2309</td>\n",
       "      <td>3621</td>\n",
       "      <td>7607</td>\n",
       "      <td>4317</td>\n",
       "      <td>7596</td>\n",
       "    </tr>\n",
       "    <tr>\n",
       "      <th>3</th>\n",
       "      <td>2020-03-24 15:14:54.032866</td>\n",
       "      <td>7778</td>\n",
       "      <td>8435</td>\n",
       "      <td>5831</td>\n",
       "      <td>9925</td>\n",
       "      <td>2769</td>\n",
       "      <td>5519</td>\n",
       "      <td>2009</td>\n",
       "      <td>3645</td>\n",
       "      <td>2774</td>\n",
       "      <td>7911</td>\n",
       "      <td>8583</td>\n",
       "      <td>8703</td>\n",
       "      <td>3569</td>\n",
       "      <td>6932</td>\n",
       "      <td>2375</td>\n",
       "      <td>8138</td>\n",
       "    </tr>\n",
       "    <tr>\n",
       "      <th>4</th>\n",
       "      <td>2020-03-25 15:14:54.032866</td>\n",
       "      <td>5165</td>\n",
       "      <td>2955</td>\n",
       "      <td>6738</td>\n",
       "      <td>7134</td>\n",
       "      <td>8331</td>\n",
       "      <td>7564</td>\n",
       "      <td>8001</td>\n",
       "      <td>4853</td>\n",
       "      <td>2285</td>\n",
       "      <td>3100</td>\n",
       "      <td>4854</td>\n",
       "      <td>9659</td>\n",
       "      <td>7785</td>\n",
       "      <td>9179</td>\n",
       "      <td>6468</td>\n",
       "      <td>4761</td>\n",
       "    </tr>\n",
       "  </tbody>\n",
       "</table>\n",
       "</div>"
      ],
      "text/plain": [
       "                        date  politics  sport  science  tech  \\\n",
       "0 2020-03-21 15:14:54.032866      2676   8062     6820  3066   \n",
       "1 2020-03-22 15:14:54.032866      7661   9975     5689  2712   \n",
       "2 2020-03-23 15:14:54.032866      4691   2848     3994  2953   \n",
       "3 2020-03-24 15:14:54.032866      7778   8435     5831  9925   \n",
       "4 2020-03-25 15:14:54.032866      5165   2955     6738  7134   \n",
       "\n",
       "   politics_to_sport  politics_to_science  politics_to_tech  \\\n",
       "0               6980                 4444              6455   \n",
       "1               4112                 7283              8230   \n",
       "2               9172                 4607              7592   \n",
       "3               2769                 5519              2009   \n",
       "4               8331                 7564              8001   \n",
       "\n",
       "   sport_to_politics  sport_to_science  sport_to_tech  science_to_sport  \\\n",
       "0               6858              2955           7841              8672   \n",
       "1               6061              9994           5193              6279   \n",
       "2               9677              6849           6070              6844   \n",
       "3               3645              2774           7911              8583   \n",
       "4               4853              2285           3100              4854   \n",
       "\n",
       "   science_to_politics  science_to_tech  tech_to_politics  tech_to_sport  \\\n",
       "0                 5742             5326              5567           8763   \n",
       "1                 7630             9000              7906           7985   \n",
       "2                 2309             3621              7607           4317   \n",
       "3                 8703             3569              6932           2375   \n",
       "4                 9659             7785              9179           6468   \n",
       "\n",
       "   tech_to_science  \n",
       "0             7281  \n",
       "1             7319  \n",
       "2             7596  \n",
       "3             8138  \n",
       "4             4761  "
      ]
     },
     "execution_count": 10,
     "metadata": {},
     "output_type": "execute_result"
    }
   ],
   "source": [
    "cr_dataframe.head()"
   ]
  },
  {
   "cell_type": "markdown",
   "metadata": {},
   "source": [
    "Now, we calculate 4 new columns: `cr_politics`, `cr_sport`, `cr_science` and `cr_tech` with the following calculations:"
   ]
  },
  {
   "cell_type": "markdown",
   "metadata": {},
   "source": [
    "## Function that calculates CR"
   ]
  },
  {
   "cell_type": "code",
   "execution_count": 11,
   "metadata": {},
   "outputs": [],
   "source": [
    "def cr(new_column, first_column, second_column, third_column, fourth_column):\n",
    "    cr_dataframe[new_column] = cr_dataframe[first_column].sum()/\\\n",
    "    (cr_dataframe[second_column].sum()\n",
    "    +cr_dataframe[third_column].sum()\n",
    "    +cr_dataframe[fourth_column].sum())"
   ]
  },
  {
   "cell_type": "code",
   "execution_count": 12,
   "metadata": {},
   "outputs": [],
   "source": [
    "cr('cr_politics', 'politics', 'politics_to_sport', 'politics_to_science', 'politics_to_tech')\n",
    "cr('cr_sport', 'sport', 'sport_to_politics', 'sport_to_science', 'sport_to_tech')\n",
    "cr('cr_science', 'science', 'science_to_politics', 'science_to_sport', 'science_to_tech')\n",
    "cr('cr_tech', 'tech', 'tech_to_politics', 'tech_to_sport', 'tech_to_science')"
   ]
  },
  {
   "cell_type": "markdown",
   "metadata": {},
   "source": [
    "Now, we can show the conversion rate for each category of the news site and for each date."
   ]
  },
  {
   "cell_type": "code",
   "execution_count": 13,
   "metadata": {},
   "outputs": [
    {
     "data": {
      "text/html": [
       "<div>\n",
       "<style scoped>\n",
       "    .dataframe tbody tr th:only-of-type {\n",
       "        vertical-align: middle;\n",
       "    }\n",
       "\n",
       "    .dataframe tbody tr th {\n",
       "        vertical-align: top;\n",
       "    }\n",
       "\n",
       "    .dataframe thead th {\n",
       "        text-align: right;\n",
       "    }\n",
       "</style>\n",
       "<table border=\"1\" class=\"dataframe\">\n",
       "  <thead>\n",
       "    <tr style=\"text-align: right;\">\n",
       "      <th></th>\n",
       "      <th>date</th>\n",
       "      <th>cr_politics</th>\n",
       "      <th>cr_sport</th>\n",
       "      <th>cr_science</th>\n",
       "      <th>cr_tech</th>\n",
       "    </tr>\n",
       "  </thead>\n",
       "  <tbody>\n",
       "    <tr>\n",
       "      <th>0</th>\n",
       "      <td>2020-03-21 15:14:54.032866</td>\n",
       "      <td>0.330019</td>\n",
       "      <td>0.347513</td>\n",
       "      <td>0.344555</td>\n",
       "      <td>0.297053</td>\n",
       "    </tr>\n",
       "    <tr>\n",
       "      <th>1</th>\n",
       "      <td>2020-03-22 15:14:54.032866</td>\n",
       "      <td>0.330019</td>\n",
       "      <td>0.347513</td>\n",
       "      <td>0.344555</td>\n",
       "      <td>0.297053</td>\n",
       "    </tr>\n",
       "    <tr>\n",
       "      <th>2</th>\n",
       "      <td>2020-03-23 15:14:54.032866</td>\n",
       "      <td>0.330019</td>\n",
       "      <td>0.347513</td>\n",
       "      <td>0.344555</td>\n",
       "      <td>0.297053</td>\n",
       "    </tr>\n",
       "    <tr>\n",
       "      <th>3</th>\n",
       "      <td>2020-03-24 15:14:54.032866</td>\n",
       "      <td>0.330019</td>\n",
       "      <td>0.347513</td>\n",
       "      <td>0.344555</td>\n",
       "      <td>0.297053</td>\n",
       "    </tr>\n",
       "    <tr>\n",
       "      <th>4</th>\n",
       "      <td>2020-03-25 15:14:54.032866</td>\n",
       "      <td>0.330019</td>\n",
       "      <td>0.347513</td>\n",
       "      <td>0.344555</td>\n",
       "      <td>0.297053</td>\n",
       "    </tr>\n",
       "  </tbody>\n",
       "</table>\n",
       "</div>"
      ],
      "text/plain": [
       "                        date  cr_politics  cr_sport  cr_science   cr_tech\n",
       "0 2020-03-21 15:14:54.032866     0.330019  0.347513    0.344555  0.297053\n",
       "1 2020-03-22 15:14:54.032866     0.330019  0.347513    0.344555  0.297053\n",
       "2 2020-03-23 15:14:54.032866     0.330019  0.347513    0.344555  0.297053\n",
       "3 2020-03-24 15:14:54.032866     0.330019  0.347513    0.344555  0.297053\n",
       "4 2020-03-25 15:14:54.032866     0.330019  0.347513    0.344555  0.297053"
      ]
     },
     "execution_count": 13,
     "metadata": {},
     "output_type": "execute_result"
    }
   ],
   "source": [
    "cr_dataframe[['date', 'cr_politics', 'cr_sport', 'cr_science', 'cr_tech']].head()"
   ]
  },
  {
   "cell_type": "markdown",
   "metadata": {},
   "source": [
    "As we said in the last metric, we can calculate the mean metric for each category:"
   ]
  },
  {
   "cell_type": "code",
   "execution_count": 14,
   "metadata": {},
   "outputs": [],
   "source": [
    "def mean_cr_per_category(category):\n",
    "    return cr_dataframe[category].mean()"
   ]
  },
  {
   "cell_type": "code",
   "execution_count": 15,
   "metadata": {},
   "outputs": [],
   "source": [
    "politics_cr = mean_cr_per_category('cr_politics')\n",
    "sport_cr = mean_cr_per_category('cr_sport')\n",
    "science_cr = mean_cr_per_category('cr_science')\n",
    "tech_cr = mean_cr_per_category('cr_tech')"
   ]
  },
  {
   "cell_type": "code",
   "execution_count": 16,
   "metadata": {},
   "outputs": [
    {
     "name": "stdout",
     "output_type": "stream",
     "text": [
      "Mean CR for politics: 0.33\n",
      "Mean CR for sport: 0.35\n",
      "Mean CR for science: 0.34\n",
      "Mean CR for tech: 0.30\n"
     ]
    }
   ],
   "source": [
    "print(f'Mean CR for politics: {politics_cr:.2f}')\n",
    "print(f'Mean CR for sport: {sport_cr:.2f}')\n",
    "print(f'Mean CR for science: {science_cr:.2f}')\n",
    "print(f'Mean CR for tech: {tech_cr:.2f}')"
   ]
  },
  {
   "cell_type": "markdown",
   "metadata": {},
   "source": [
    "## Creating the third table and calculating average page time"
   ]
  },
  {
   "cell_type": "markdown",
   "metadata": {},
   "source": [
    "For each date, let's see if we can create 5 users per day. Then we can adjust this parameter so the data looks more \"real\". **We are not going to make this parameter variable for each date to not complicate things more**."
   ]
  },
  {
   "cell_type": "code",
   "execution_count": 17,
   "metadata": {},
   "outputs": [],
   "source": [
    "users_per_day = 5\n",
    "multiindex_dates = []\n",
    "for date in dates:\n",
    "    for i in range(users_per_day):\n",
    "        multiindex_dates += [date]\n",
    "uids = []\n",
    "uid = 1\n",
    "for date in dates:\n",
    "    for i in range(users_per_day):\n",
    "        uids += [uid]\n",
    "        uid += 1\n",
    "time = []\n",
    "for date in dates:\n",
    "    for i in range(users_per_day):\n",
    "        random_time = randint(0, 15)\n",
    "        time += [random_time]\n",
    "index = [multiindex_dates, uids]\n",
    "index = list(zip(*index))\n",
    "index = pd.MultiIndex.from_tuples(index, names=['date', 'user_uid'])"
   ]
  },
  {
   "cell_type": "code",
   "execution_count": 18,
   "metadata": {},
   "outputs": [],
   "source": [
    "avg_page_time_dataframe = pd.DataFrame(time, index=index, columns=['time'])"
   ]
  },
  {
   "cell_type": "code",
   "execution_count": 19,
   "metadata": {},
   "outputs": [
    {
     "data": {
      "text/html": [
       "<div>\n",
       "<style scoped>\n",
       "    .dataframe tbody tr th:only-of-type {\n",
       "        vertical-align: middle;\n",
       "    }\n",
       "\n",
       "    .dataframe tbody tr th {\n",
       "        vertical-align: top;\n",
       "    }\n",
       "\n",
       "    .dataframe thead th {\n",
       "        text-align: right;\n",
       "    }\n",
       "</style>\n",
       "<table border=\"1\" class=\"dataframe\">\n",
       "  <thead>\n",
       "    <tr style=\"text-align: right;\">\n",
       "      <th></th>\n",
       "      <th></th>\n",
       "      <th>time</th>\n",
       "    </tr>\n",
       "    <tr>\n",
       "      <th>date</th>\n",
       "      <th>user_uid</th>\n",
       "      <th></th>\n",
       "    </tr>\n",
       "  </thead>\n",
       "  <tbody>\n",
       "    <tr>\n",
       "      <th rowspan=\"5\" valign=\"top\">2020-03-21 15:14:54.032866</th>\n",
       "      <th>1</th>\n",
       "      <td>7</td>\n",
       "    </tr>\n",
       "    <tr>\n",
       "      <th>2</th>\n",
       "      <td>5</td>\n",
       "    </tr>\n",
       "    <tr>\n",
       "      <th>3</th>\n",
       "      <td>13</td>\n",
       "    </tr>\n",
       "    <tr>\n",
       "      <th>4</th>\n",
       "      <td>14</td>\n",
       "    </tr>\n",
       "    <tr>\n",
       "      <th>5</th>\n",
       "      <td>2</td>\n",
       "    </tr>\n",
       "    <tr>\n",
       "      <th>...</th>\n",
       "      <th>...</th>\n",
       "      <td>...</td>\n",
       "    </tr>\n",
       "    <tr>\n",
       "      <th rowspan=\"5\" valign=\"top\">2020-04-19 15:14:54.032866</th>\n",
       "      <th>146</th>\n",
       "      <td>2</td>\n",
       "    </tr>\n",
       "    <tr>\n",
       "      <th>147</th>\n",
       "      <td>13</td>\n",
       "    </tr>\n",
       "    <tr>\n",
       "      <th>148</th>\n",
       "      <td>1</td>\n",
       "    </tr>\n",
       "    <tr>\n",
       "      <th>149</th>\n",
       "      <td>1</td>\n",
       "    </tr>\n",
       "    <tr>\n",
       "      <th>150</th>\n",
       "      <td>12</td>\n",
       "    </tr>\n",
       "  </tbody>\n",
       "</table>\n",
       "<p>150 rows × 1 columns</p>\n",
       "</div>"
      ],
      "text/plain": [
       "                                     time\n",
       "date                       user_uid      \n",
       "2020-03-21 15:14:54.032866 1            7\n",
       "                           2            5\n",
       "                           3           13\n",
       "                           4           14\n",
       "                           5            2\n",
       "...                                   ...\n",
       "2020-04-19 15:14:54.032866 146          2\n",
       "                           147         13\n",
       "                           148          1\n",
       "                           149          1\n",
       "                           150         12\n",
       "\n",
       "[150 rows x 1 columns]"
      ]
     },
     "execution_count": 19,
     "metadata": {},
     "output_type": "execute_result"
    }
   ],
   "source": [
    "avg_page_time_dataframe"
   ]
  },
  {
   "cell_type": "markdown",
   "metadata": {},
   "source": [
    "Great! Now, we need to create a function that will filter time that is less than 5 seconds and then return a dataframe with the mean time for each date:"
   ]
  },
  {
   "cell_type": "code",
   "execution_count": 20,
   "metadata": {},
   "outputs": [],
   "source": [
    "def avg_page_time_per_day(min_time=5):\n",
    "    filtered_avg_page_time_dataframe = avg_page_time_dataframe[avg_page_time_dataframe['time'] > min_time]\n",
    "    return filtered_avg_page_time_dataframe.groupby(by=['date']).mean()"
   ]
  },
  {
   "cell_type": "code",
   "execution_count": 21,
   "metadata": {},
   "outputs": [
    {
     "data": {
      "text/html": [
       "<div>\n",
       "<style scoped>\n",
       "    .dataframe tbody tr th:only-of-type {\n",
       "        vertical-align: middle;\n",
       "    }\n",
       "\n",
       "    .dataframe tbody tr th {\n",
       "        vertical-align: top;\n",
       "    }\n",
       "\n",
       "    .dataframe thead th {\n",
       "        text-align: right;\n",
       "    }\n",
       "</style>\n",
       "<table border=\"1\" class=\"dataframe\">\n",
       "  <thead>\n",
       "    <tr style=\"text-align: right;\">\n",
       "      <th></th>\n",
       "      <th>time</th>\n",
       "    </tr>\n",
       "    <tr>\n",
       "      <th>date</th>\n",
       "      <th></th>\n",
       "    </tr>\n",
       "  </thead>\n",
       "  <tbody>\n",
       "    <tr>\n",
       "      <th>2020-03-21 15:14:54.032866</th>\n",
       "      <td>11.333333</td>\n",
       "    </tr>\n",
       "    <tr>\n",
       "      <th>2020-03-22 15:14:54.032866</th>\n",
       "      <td>10.500000</td>\n",
       "    </tr>\n",
       "    <tr>\n",
       "      <th>2020-03-23 15:14:54.032866</th>\n",
       "      <td>8.000000</td>\n",
       "    </tr>\n",
       "    <tr>\n",
       "      <th>2020-03-24 15:14:54.032866</th>\n",
       "      <td>13.500000</td>\n",
       "    </tr>\n",
       "    <tr>\n",
       "      <th>2020-03-25 15:14:54.032866</th>\n",
       "      <td>12.000000</td>\n",
       "    </tr>\n",
       "  </tbody>\n",
       "</table>\n",
       "</div>"
      ],
      "text/plain": [
       "                                 time\n",
       "date                                 \n",
       "2020-03-21 15:14:54.032866  11.333333\n",
       "2020-03-22 15:14:54.032866  10.500000\n",
       "2020-03-23 15:14:54.032866   8.000000\n",
       "2020-03-24 15:14:54.032866  13.500000\n",
       "2020-03-25 15:14:54.032866  12.000000"
      ]
     },
     "execution_count": 21,
     "metadata": {},
     "output_type": "execute_result"
    }
   ],
   "source": [
    "avg_time_dataframe = avg_page_time_per_day()\n",
    "avg_time_dataframe.head()"
   ]
  },
  {
   "cell_type": "markdown",
   "metadata": {},
   "source": [
    "Again, we can take the average time for all the dates in this new dataframe:"
   ]
  },
  {
   "cell_type": "code",
   "execution_count": 22,
   "metadata": {},
   "outputs": [
    {
     "name": "stdout",
     "output_type": "stream",
     "text": [
      "Average time for the 30 days: 10.58 seconds\n"
     ]
    }
   ],
   "source": [
    "average_time = avg_time_dataframe['time'].mean()\n",
    "print(f'Average time for the 30 days: {average_time:.2f} seconds')"
   ]
  },
  {
   "cell_type": "markdown",
   "metadata": {},
   "source": [
    "## Creating the fourth table and calculating share of readings"
   ]
  },
  {
   "cell_type": "markdown",
   "metadata": {},
   "source": [
    "The approach is almost the same as the one we took in the last metric, so we will be repeating some code. However, we need an additional piece of information from the last metric, namely the `users_per_day` variable. Also, we need the average number of posts per day, which is `10` according to the instructions. Again, **we are not going to complicate things more by making this parameter variable**."
   ]
  },
  {
   "cell_type": "code",
   "execution_count": 23,
   "metadata": {},
   "outputs": [],
   "source": [
    "posts_per_day = 10\n",
    "multiindex_dates = []\n",
    "for date in dates:\n",
    "    for i in range(posts_per_day):\n",
    "        multiindex_dates += [date]\n",
    "uids = []\n",
    "uid = 1\n",
    "for date in dates:\n",
    "    for i in range(posts_per_day):\n",
    "        uids += [uid]\n",
    "        uid += 1\n",
    "shares = []\n",
    "for date in dates:\n",
    "    for i in range(posts_per_day):\n",
    "        random_shares = randint(0, users_per_day)\n",
    "        shares += [random_shares]\n",
    "index = [multiindex_dates, uids]\n",
    "index = list(zip(*index))\n",
    "index = pd.MultiIndex.from_tuples(index, names=['date', 'post_id'])"
   ]
  },
  {
   "cell_type": "code",
   "execution_count": 24,
   "metadata": {},
   "outputs": [],
   "source": [
    "shares_dataframe = pd.DataFrame(shares, index=index, columns=['shares'])"
   ]
  },
  {
   "cell_type": "code",
   "execution_count": 25,
   "metadata": {},
   "outputs": [
    {
     "data": {
      "text/html": [
       "<div>\n",
       "<style scoped>\n",
       "    .dataframe tbody tr th:only-of-type {\n",
       "        vertical-align: middle;\n",
       "    }\n",
       "\n",
       "    .dataframe tbody tr th {\n",
       "        vertical-align: top;\n",
       "    }\n",
       "\n",
       "    .dataframe thead th {\n",
       "        text-align: right;\n",
       "    }\n",
       "</style>\n",
       "<table border=\"1\" class=\"dataframe\">\n",
       "  <thead>\n",
       "    <tr style=\"text-align: right;\">\n",
       "      <th></th>\n",
       "      <th></th>\n",
       "      <th>shares</th>\n",
       "    </tr>\n",
       "    <tr>\n",
       "      <th>date</th>\n",
       "      <th>post_id</th>\n",
       "      <th></th>\n",
       "    </tr>\n",
       "  </thead>\n",
       "  <tbody>\n",
       "    <tr>\n",
       "      <th rowspan=\"5\" valign=\"top\">2020-03-21 15:14:54.032866</th>\n",
       "      <th>1</th>\n",
       "      <td>4</td>\n",
       "    </tr>\n",
       "    <tr>\n",
       "      <th>2</th>\n",
       "      <td>5</td>\n",
       "    </tr>\n",
       "    <tr>\n",
       "      <th>3</th>\n",
       "      <td>3</td>\n",
       "    </tr>\n",
       "    <tr>\n",
       "      <th>4</th>\n",
       "      <td>5</td>\n",
       "    </tr>\n",
       "    <tr>\n",
       "      <th>5</th>\n",
       "      <td>5</td>\n",
       "    </tr>\n",
       "    <tr>\n",
       "      <th>...</th>\n",
       "      <th>...</th>\n",
       "      <td>...</td>\n",
       "    </tr>\n",
       "    <tr>\n",
       "      <th rowspan=\"5\" valign=\"top\">2020-04-19 15:14:54.032866</th>\n",
       "      <th>296</th>\n",
       "      <td>0</td>\n",
       "    </tr>\n",
       "    <tr>\n",
       "      <th>297</th>\n",
       "      <td>1</td>\n",
       "    </tr>\n",
       "    <tr>\n",
       "      <th>298</th>\n",
       "      <td>1</td>\n",
       "    </tr>\n",
       "    <tr>\n",
       "      <th>299</th>\n",
       "      <td>0</td>\n",
       "    </tr>\n",
       "    <tr>\n",
       "      <th>300</th>\n",
       "      <td>3</td>\n",
       "    </tr>\n",
       "  </tbody>\n",
       "</table>\n",
       "<p>300 rows × 1 columns</p>\n",
       "</div>"
      ],
      "text/plain": [
       "                                    shares\n",
       "date                       post_id        \n",
       "2020-03-21 15:14:54.032866 1             4\n",
       "                           2             5\n",
       "                           3             3\n",
       "                           4             5\n",
       "                           5             5\n",
       "...                                    ...\n",
       "2020-04-19 15:14:54.032866 296           0\n",
       "                           297           1\n",
       "                           298           1\n",
       "                           299           0\n",
       "                           300           3\n",
       "\n",
       "[300 rows x 1 columns]"
      ]
     },
     "execution_count": 25,
     "metadata": {},
     "output_type": "execute_result"
    }
   ],
   "source": [
    "shares_dataframe"
   ]
  },
  {
   "cell_type": "markdown",
   "metadata": {},
   "source": [
    "Great! Now, we need to divide the number of shares of each post by the total of users per day."
   ]
  },
  {
   "cell_type": "markdown",
   "metadata": {},
   "source": [
    "## Function that calculates shares per users"
   ]
  },
  {
   "cell_type": "code",
   "execution_count": 26,
   "metadata": {},
   "outputs": [],
   "source": [
    "def shares_per_users():\n",
    "    shares_dataframe['shares_per_total_users'] = shares_dataframe['shares']/users_per_day"
   ]
  },
  {
   "cell_type": "code",
   "execution_count": 27,
   "metadata": {},
   "outputs": [
    {
     "data": {
      "text/html": [
       "<div>\n",
       "<style scoped>\n",
       "    .dataframe tbody tr th:only-of-type {\n",
       "        vertical-align: middle;\n",
       "    }\n",
       "\n",
       "    .dataframe tbody tr th {\n",
       "        vertical-align: top;\n",
       "    }\n",
       "\n",
       "    .dataframe thead th {\n",
       "        text-align: right;\n",
       "    }\n",
       "</style>\n",
       "<table border=\"1\" class=\"dataframe\">\n",
       "  <thead>\n",
       "    <tr style=\"text-align: right;\">\n",
       "      <th></th>\n",
       "      <th></th>\n",
       "      <th>shares</th>\n",
       "      <th>shares_per_total_users</th>\n",
       "    </tr>\n",
       "    <tr>\n",
       "      <th>date</th>\n",
       "      <th>post_id</th>\n",
       "      <th></th>\n",
       "      <th></th>\n",
       "    </tr>\n",
       "  </thead>\n",
       "  <tbody>\n",
       "    <tr>\n",
       "      <th rowspan=\"10\" valign=\"top\">2020-03-21 15:14:54.032866</th>\n",
       "      <th>1</th>\n",
       "      <td>4</td>\n",
       "      <td>0.8</td>\n",
       "    </tr>\n",
       "    <tr>\n",
       "      <th>2</th>\n",
       "      <td>5</td>\n",
       "      <td>1.0</td>\n",
       "    </tr>\n",
       "    <tr>\n",
       "      <th>3</th>\n",
       "      <td>3</td>\n",
       "      <td>0.6</td>\n",
       "    </tr>\n",
       "    <tr>\n",
       "      <th>4</th>\n",
       "      <td>5</td>\n",
       "      <td>1.0</td>\n",
       "    </tr>\n",
       "    <tr>\n",
       "      <th>5</th>\n",
       "      <td>5</td>\n",
       "      <td>1.0</td>\n",
       "    </tr>\n",
       "    <tr>\n",
       "      <th>6</th>\n",
       "      <td>4</td>\n",
       "      <td>0.8</td>\n",
       "    </tr>\n",
       "    <tr>\n",
       "      <th>7</th>\n",
       "      <td>1</td>\n",
       "      <td>0.2</td>\n",
       "    </tr>\n",
       "    <tr>\n",
       "      <th>8</th>\n",
       "      <td>4</td>\n",
       "      <td>0.8</td>\n",
       "    </tr>\n",
       "    <tr>\n",
       "      <th>9</th>\n",
       "      <td>0</td>\n",
       "      <td>0.0</td>\n",
       "    </tr>\n",
       "    <tr>\n",
       "      <th>10</th>\n",
       "      <td>5</td>\n",
       "      <td>1.0</td>\n",
       "    </tr>\n",
       "    <tr>\n",
       "      <th rowspan=\"5\" valign=\"top\">2020-03-22 15:14:54.032866</th>\n",
       "      <th>11</th>\n",
       "      <td>4</td>\n",
       "      <td>0.8</td>\n",
       "    </tr>\n",
       "    <tr>\n",
       "      <th>12</th>\n",
       "      <td>5</td>\n",
       "      <td>1.0</td>\n",
       "    </tr>\n",
       "    <tr>\n",
       "      <th>13</th>\n",
       "      <td>4</td>\n",
       "      <td>0.8</td>\n",
       "    </tr>\n",
       "    <tr>\n",
       "      <th>14</th>\n",
       "      <td>3</td>\n",
       "      <td>0.6</td>\n",
       "    </tr>\n",
       "    <tr>\n",
       "      <th>15</th>\n",
       "      <td>1</td>\n",
       "      <td>0.2</td>\n",
       "    </tr>\n",
       "  </tbody>\n",
       "</table>\n",
       "</div>"
      ],
      "text/plain": [
       "                                    shares  shares_per_total_users\n",
       "date                       post_id                                \n",
       "2020-03-21 15:14:54.032866 1             4                     0.8\n",
       "                           2             5                     1.0\n",
       "                           3             3                     0.6\n",
       "                           4             5                     1.0\n",
       "                           5             5                     1.0\n",
       "                           6             4                     0.8\n",
       "                           7             1                     0.2\n",
       "                           8             4                     0.8\n",
       "                           9             0                     0.0\n",
       "                           10            5                     1.0\n",
       "2020-03-22 15:14:54.032866 11            4                     0.8\n",
       "                           12            5                     1.0\n",
       "                           13            4                     0.8\n",
       "                           14            3                     0.6\n",
       "                           15            1                     0.2"
      ]
     },
     "execution_count": 27,
     "metadata": {},
     "output_type": "execute_result"
    }
   ],
   "source": [
    "shares_per_users()\n",
    "shares_dataframe.head(15)"
   ]
  },
  {
   "cell_type": "markdown",
   "metadata": {},
   "source": [
    "We can calculate the average value of `shares_per_total_users` for each date:"
   ]
  },
  {
   "cell_type": "code",
   "execution_count": 28,
   "metadata": {},
   "outputs": [
    {
     "data": {
      "text/plain": [
       "date\n",
       "2020-03-21 15:14:54.032866    0.72\n",
       "2020-03-22 15:14:54.032866    0.58\n",
       "2020-03-23 15:14:54.032866    0.50\n",
       "2020-03-24 15:14:54.032866    0.52\n",
       "2020-03-25 15:14:54.032866    0.42\n",
       "2020-03-26 15:14:54.032866    0.40\n",
       "2020-03-27 15:14:54.032866    0.60\n",
       "2020-03-28 15:14:54.032866    0.28\n",
       "2020-03-29 15:14:54.032866    0.48\n",
       "2020-03-30 15:14:54.032866    0.50\n",
       "2020-03-31 15:14:54.032866    0.64\n",
       "2020-04-01 15:14:54.032866    0.42\n",
       "2020-04-02 15:14:54.032866    0.54\n",
       "2020-04-03 15:14:54.032866    0.68\n",
       "2020-04-04 15:14:54.032866    0.54\n",
       "Name: shares_per_total_users, dtype: float64"
      ]
     },
     "execution_count": 28,
     "metadata": {},
     "output_type": "execute_result"
    }
   ],
   "source": [
    "shares_per_total_users_dataframe = shares_dataframe.groupby('date')['shares_per_total_users'].mean()\n",
    "shares_per_total_users_dataframe.head(15)"
   ]
  },
  {
   "cell_type": "markdown",
   "metadata": {},
   "source": [
    "Lastly, we are going to calculate the mean shares per total users for all the dates:"
   ]
  },
  {
   "cell_type": "code",
   "execution_count": 29,
   "metadata": {},
   "outputs": [
    {
     "name": "stdout",
     "output_type": "stream",
     "text": [
      "Mean shares per total users for the 30 days: 0.50\n"
     ]
    }
   ],
   "source": [
    "mean_shares_per_total_users = shares_per_total_users_dataframe.mean()\n",
    "print(f'Mean shares per total users for the 30 days: {mean_shares_per_total_users:.2f}')"
   ]
  },
  {
   "cell_type": "code",
   "execution_count": null,
   "metadata": {},
   "outputs": [],
   "source": []
  }
 ],
 "metadata": {
  "kernelspec": {
   "display_name": "Python 3",
   "language": "python",
   "name": "python3"
  },
  "language_info": {
   "codemirror_mode": {
    "name": "ipython",
    "version": 3
   },
   "file_extension": ".py",
   "mimetype": "text/x-python",
   "name": "python",
   "nbconvert_exporter": "python",
   "pygments_lexer": "ipython3",
   "version": "3.6.9"
  }
 },
 "nbformat": 4,
 "nbformat_minor": 4
}
