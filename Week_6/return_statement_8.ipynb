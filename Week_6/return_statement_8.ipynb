{
 "cells": [
  {
   "cell_type": "code",
   "execution_count": 2,
   "metadata": {},
   "outputs": [
    {
     "name": "stdout",
     "output_type": "stream",
     "text": [
      "Andrei Ivanchenko 15\n",
      "Name: Andrei. Surname: Ivanchenko. Age: 15.\n"
     ]
    }
   ],
   "source": [
    "def format_string(string):\n",
    "    lst = string.split()\n",
    "    return f'Name: {lst[0]}. Surname: {lst[1]}. Age: {lst[2]}.'\n",
    "string = input()\n",
    "result = format_string(string)\n",
    "print(result)"
   ]
  },
  {
   "cell_type": "code",
   "execution_count": null,
   "metadata": {},
   "outputs": [],
   "source": []
  }
 ],
 "metadata": {
  "kernelspec": {
   "display_name": "Python 3",
   "language": "python",
   "name": "python3"
  },
  "language_info": {
   "codemirror_mode": {
    "name": "ipython",
    "version": 3
   },
   "file_extension": ".py",
   "mimetype": "text/x-python",
   "name": "python",
   "nbconvert_exporter": "python",
   "pygments_lexer": "ipython3",
   "version": "3.6.9"
  }
 },
 "nbformat": 4,
 "nbformat_minor": 2
}
