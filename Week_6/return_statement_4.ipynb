{
 "cells": [
  {
   "cell_type": "code",
   "execution_count": 1,
   "metadata": {},
   "outputs": [
    {
     "name": "stdout",
     "output_type": "stream",
     "text": [
      "987654321\n",
      "GgfFEedDCcbBaA\n",
      "123456789ABCDEFGabcdefg"
     ]
    }
   ],
   "source": [
    "def ordered(lst1, lst2):\n",
    "    lst3 = lst1+lst2\n",
    "    lst3.sort()\n",
    "    return lst3\n",
    "lst1 = list(input())\n",
    "lst2 = list(input())\n",
    "lst3 = ordered(lst1, lst2)\n",
    "for e in lst3:\n",
    "    print(e, end=\"\")"
   ]
  },
  {
   "cell_type": "code",
   "execution_count": null,
   "metadata": {},
   "outputs": [],
   "source": []
  }
 ],
 "metadata": {
  "kernelspec": {
   "display_name": "Python 3",
   "language": "python",
   "name": "python3"
  },
  "language_info": {
   "codemirror_mode": {
    "name": "ipython",
    "version": 3
   },
   "file_extension": ".py",
   "mimetype": "text/x-python",
   "name": "python",
   "nbconvert_exporter": "python",
   "pygments_lexer": "ipython3",
   "version": "3.6.9"
  }
 },
 "nbformat": 4,
 "nbformat_minor": 2
}
