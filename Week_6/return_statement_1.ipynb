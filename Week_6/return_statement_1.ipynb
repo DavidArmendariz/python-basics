{
 "cells": [
  {
   "cell_type": "code",
   "execution_count": 1,
   "metadata": {},
   "outputs": [
    {
     "name": "stdout",
     "output_type": "stream",
     "text": [
      "5\n",
      "6\n",
      "+\n",
      "11.0\n"
     ]
    }
   ],
   "source": [
    "def calc(a, b, operation):\n",
    "    if operation == '+':\n",
    "        return a+b\n",
    "    elif operation == '*':\n",
    "        return a*b\n",
    "    elif operation == '-':\n",
    "        return a-b\n",
    "    elif operation == '/':\n",
    "        return a/b\n",
    "\n",
    "a = float(input())\n",
    "b = float(input())\n",
    "operation = input()\n",
    "print(calc(a, b, operation))"
   ]
  },
  {
   "cell_type": "code",
   "execution_count": null,
   "metadata": {},
   "outputs": [],
   "source": []
  }
 ],
 "metadata": {
  "kernelspec": {
   "display_name": "Python 3",
   "language": "python",
   "name": "python3"
  },
  "language_info": {
   "codemirror_mode": {
    "name": "ipython",
    "version": 3
   },
   "file_extension": ".py",
   "mimetype": "text/x-python",
   "name": "python",
   "nbconvert_exporter": "python",
   "pygments_lexer": "ipython3",
   "version": "3.6.9"
  }
 },
 "nbformat": 4,
 "nbformat_minor": 2
}
