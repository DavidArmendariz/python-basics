{
 "cells": [
  {
   "cell_type": "code",
   "execution_count": 7,
   "metadata": {},
   "outputs": [
    {
     "name": "stdout",
     "output_type": "stream",
     "text": [
      "[10, (11, 'prime'), 12, (13, 'prime'), 14, 15, 16, (17, 'prime'), 18, (19, 'prime'), 20, 21, 22, (23, 'prime'), 24, 25, 26, 27, 28, (29, 'prime'), 30, (31, 'prime'), 32, 33, 34, 35, 36, (37, 'prime'), 38, 39, 40, (41, 'prime'), 42, (43, 'prime'), 44, 45, 46, (47, 'prime'), 48, 49, 50]\n"
     ]
    }
   ],
   "source": [
    "def isprime(x):\n",
    "    for j in range(2, x):\n",
    "        if x % j == 0:\n",
    "            return False\n",
    "    return True\n",
    "x = [(i,'prime') if isprime(i) == True else i for i in range(10,51)]\n",
    "print(x)"
   ]
  },
  {
   "cell_type": "code",
   "execution_count": null,
   "metadata": {},
   "outputs": [],
   "source": []
  }
 ],
 "metadata": {
  "kernelspec": {
   "display_name": "Python 3",
   "language": "python",
   "name": "python3"
  },
  "language_info": {
   "codemirror_mode": {
    "name": "ipython",
    "version": 3
   },
   "file_extension": ".py",
   "mimetype": "text/x-python",
   "name": "python",
   "nbconvert_exporter": "python",
   "pygments_lexer": "ipython3",
   "version": "3.6.9"
  }
 },
 "nbformat": 4,
 "nbformat_minor": 2
}
