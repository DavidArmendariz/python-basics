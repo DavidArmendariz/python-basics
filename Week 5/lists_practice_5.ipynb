{
 "cells": [
  {
   "cell_type": "code",
   "execution_count": 12,
   "metadata": {},
   "outputs": [
    {
     "name": "stdout",
     "output_type": "stream",
     "text": [
      "1 2 3 4 5 6 10\n",
      "54 2 4 6 \n",
      "2 4 6 "
     ]
    }
   ],
   "source": [
    "string1 = input()\n",
    "string2 = input()\n",
    "numbers1 = string1.split()\n",
    "numbers2 = string2.split()\n",
    "result = []\n",
    "for n1 in numbers1:\n",
    "    if n1 in numbers2:\n",
    "        result.append(n1)\n",
    "        continue\n",
    "if result:\n",
    "    for e in result:\n",
    "        print(e, end=\" \")\n",
    "else:\n",
    "    print(\" \")"
   ]
  },
  {
   "cell_type": "code",
   "execution_count": null,
   "metadata": {},
   "outputs": [],
   "source": []
  }
 ],
 "metadata": {
  "kernelspec": {
   "display_name": "Python 3",
   "language": "python",
   "name": "python3"
  },
  "language_info": {
   "codemirror_mode": {
    "name": "ipython",
    "version": 3
   },
   "file_extension": ".py",
   "mimetype": "text/x-python",
   "name": "python",
   "nbconvert_exporter": "python",
   "pygments_lexer": "ipython3",
   "version": "3.6.9"
  }
 },
 "nbformat": 4,
 "nbformat_minor": 2
}
