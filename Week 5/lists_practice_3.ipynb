{
 "cells": [
  {
   "cell_type": "code",
   "execution_count": 2,
   "metadata": {},
   "outputs": [
    {
     "name": "stdout",
     "output_type": "stream",
     "text": [
      "1 2 3 4 142 5 6 7 8\n",
      "2 4 "
     ]
    }
   ],
   "source": [
    "string = input()\n",
    "numbers = string.split()\n",
    "numbers = list(map(int, numbers))\n",
    "result = []\n",
    "for e in numbers:\n",
    "    if e == 142:\n",
    "        break\n",
    "    if e % 2 == 0:\n",
    "        result.append(e)\n",
    "for e in result:\n",
    "    print(e, end=\" \")"
   ]
  },
  {
   "cell_type": "code",
   "execution_count": null,
   "metadata": {},
   "outputs": [],
   "source": []
  }
 ],
 "metadata": {
  "kernelspec": {
   "display_name": "Python 3",
   "language": "python",
   "name": "python3"
  },
  "language_info": {
   "codemirror_mode": {
    "name": "ipython",
    "version": 3
   },
   "file_extension": ".py",
   "mimetype": "text/x-python",
   "name": "python",
   "nbconvert_exporter": "python",
   "pygments_lexer": "ipython3",
   "version": "3.6.9"
  }
 },
 "nbformat": 4,
 "nbformat_minor": 2
}
