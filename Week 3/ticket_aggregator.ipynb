{
 "cells": [
  {
   "cell_type": "markdown",
   "metadata": {},
   "source": [
    "# Ticket aggregator assignment"
   ]
  },
  {
   "cell_type": "markdown",
   "metadata": {},
   "source": [
    "## In this block of code, we enter the price.\n",
    "\n",
    "We validate if the user entered a non-negative real number."
   ]
  },
  {
   "cell_type": "code",
   "execution_count": 15,
   "metadata": {},
   "outputs": [
    {
     "name": "stdout",
     "output_type": "stream",
     "text": [
      "Enter price: 123.5\n"
     ]
    }
   ],
   "source": [
    "while True:\n",
    "    try:\n",
    "        price = float(input('Enter price: '))\n",
    "    except ValueError:\n",
    "        print('Your input should be a number, try again')\n",
    "        continue\n",
    "    if price < 0:\n",
    "        print('The price should not be negative, try again')\n",
    "    else:\n",
    "        break"
   ]
  },
  {
   "cell_type": "markdown",
   "metadata": {},
   "source": [
    "## In this block of code, we enter the number of transfers.\n",
    "\n",
    "We validate if the user entered a non-negative integer."
   ]
  },
  {
   "cell_type": "code",
   "execution_count": 16,
   "metadata": {},
   "outputs": [
    {
     "name": "stdout",
     "output_type": "stream",
     "text": [
      "Enter number of transfers: 0\n"
     ]
    }
   ],
   "source": [
    "while True:\n",
    "    try:\n",
    "        transfer = int(input('Enter number of transfers: '))\n",
    "    except ValueError:\n",
    "        print('Your input should be a number, try again')\n",
    "        continue\n",
    "    if transfer < 0:\n",
    "        print('The number of transfers should not be negative, try again')\n",
    "    else:\n",
    "        break"
   ]
  },
  {
   "cell_type": "markdown",
   "metadata": {},
   "source": [
    "## In this block of code, we enter if refund is available.\n",
    "\n",
    "We validate if the user enters either `y` (yes) or `n` (no) and then we convert these values to boolean variables."
   ]
  },
  {
   "cell_type": "code",
   "execution_count": 17,
   "metadata": {},
   "outputs": [
    {
     "name": "stdout",
     "output_type": "stream",
     "text": [
      "Enter if refund is available (y/n): y\n"
     ]
    }
   ],
   "source": [
    "while True:\n",
    "    refund = input('Enter if refund is available (y/n): ')\n",
    "    if refund != 'y' and refund != 'n':\n",
    "        print('Your input should be either y or n, try again')\n",
    "    else:\n",
    "        refund = True if refund == 'y' else False\n",
    "        break"
   ]
  },
  {
   "cell_type": "markdown",
   "metadata": {},
   "source": [
    "## In this block of code, we enter if luggage is included.\n",
    "\n",
    "We validate if the user enters either `y` (yes) or `n` (no) and then we convert these values to boolean variables."
   ]
  },
  {
   "cell_type": "code",
   "execution_count": 18,
   "metadata": {},
   "outputs": [
    {
     "name": "stdout",
     "output_type": "stream",
     "text": [
      "Enter if luggage is included (y/n): y\n"
     ]
    }
   ],
   "source": [
    "while True:\n",
    "    luggage = input('Enter if luggage is included (y/n): ')\n",
    "    if luggage != 'y' and luggage != 'n':\n",
    "        print('Your input should be either y or n, try again')\n",
    "    else:\n",
    "        luggage = True if luggage == 'y' else False\n",
    "        break"
   ]
  },
  {
   "cell_type": "markdown",
   "metadata": {},
   "source": [
    "## In this block of code, we determine the category of our ticket.\n",
    "\n",
    "We categorize our ticket according to the parameters entered."
   ]
  },
  {
   "cell_type": "code",
   "execution_count": 19,
   "metadata": {},
   "outputs": [],
   "source": [
    "category = ''\n",
    "if price < 200.00 and (transfer in [0, 1]) and refund and luggage:\n",
    "    category = 'Best offer'\n",
    "elif (price >= 200 and price < 250) and (transfer in [0, 1, 2]) and refund:\n",
    "    category = 'Normal offer'\n",
    "elif (price >= 250 and price < 300) and (transfer in [3, 4]) and refund:\n",
    "    cateogry = 'Bad offer'\n",
    "else:\n",
    "    category = 'Other'"
   ]
  },
  {
   "cell_type": "code",
   "execution_count": 20,
   "metadata": {},
   "outputs": [
    {
     "name": "stdout",
     "output_type": "stream",
     "text": [
      "Best offer\n"
     ]
    }
   ],
   "source": [
    "print(category)"
   ]
  }
 ],
 "metadata": {
  "kernelspec": {
   "display_name": "Python 3",
   "language": "python",
   "name": "python3"
  },
  "language_info": {
   "codemirror_mode": {
    "name": "ipython",
    "version": 3
   },
   "file_extension": ".py",
   "mimetype": "text/x-python",
   "name": "python",
   "nbconvert_exporter": "python",
   "pygments_lexer": "ipython3",
   "version": "3.6.9"
  }
 },
 "nbformat": 4,
 "nbformat_minor": 4
}
